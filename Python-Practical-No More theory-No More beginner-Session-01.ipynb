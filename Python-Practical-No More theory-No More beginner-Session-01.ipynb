{
 "cells": [
  {
   "cell_type": "markdown",
   "id": "d70bc83c",
   "metadata": {},
   "source": [
    "# Python Practical - No More Theory - No More Beginner - Beyond"
   ]
  },
  {
   "cell_type": "markdown",
   "id": "d778ec39",
   "metadata": {},
   "source": [
    "## Q 1: Determine if the student passed or failed for list of lists  - each inner list contains the subject marks "
   ]
  },
  {
   "cell_type": "code",
   "execution_count": 19,
   "id": "5b96792d",
   "metadata": {},
   "outputs": [
    {
     "name": "stdout",
     "output_type": "stream",
     "text": [
      "[[55, 65, 70, 80, 90], [30, 45, 50, 35, 60], [80, 85, 90, 95, 100]]\n",
      "['Naveen', 'Suresh', 'Naresh']\n"
     ]
    }
   ],
   "source": [
    "students_marks = [\n",
    "    [55, 65, 70, 80, 90],   # S 1\n",
    "    [30, 45, 50, 35, 60],   # S 2\n",
    "    [80, 85, 90, 95, 100],  # S 3\n",
    "]\n",
    "student_names = [\"Naveen\", \"Suresh\", \"Naresh\"]\n",
    "print(students_marks)\n",
    "print(student_names)"
   ]
  },
  {
   "cell_type": "code",
   "execution_count": 22,
   "id": "cd632165",
   "metadata": {},
   "outputs": [
    {
     "name": "stdout",
     "output_type": "stream",
     "text": [
      "{'Naveen': 72.0, 'Suresh': 'Fail', 'Naresh': 90.0}\n"
     ]
    }
   ],
   "source": [
    "# Method 1 - for loop method\n",
    "student_results= []\n",
    "for subject_marks in students_marks:\n",
    "    if all(sub_mark > 40  for sub_mark in subject_marks):\n",
    "        marks_per = sum(subject_marks)/len(subject_marks)\n",
    "        student_results.append(marks_per)\n",
    "    else:\n",
    "        student_results.append(\"Fail\")\n",
    "\n",
    "student_final_results = {}\n",
    "for stu_name, stu_mark_per in zip(student_names,student_results):\n",
    "    student_final_results[stu_name]= stu_mark_per\n",
    "    \n",
    "print(student_final_results)"
   ]
  },
  {
   "cell_type": "code",
   "execution_count": 23,
   "id": "2ae65808",
   "metadata": {},
   "outputs": [
    {
     "name": "stdout",
     "output_type": "stream",
     "text": [
      "{'Naveen': 72.0, 'Suresh': 'Fail', 'Naresh': 90.0}\n"
     ]
    }
   ],
   "source": [
    "# Method 2 - list comp\n",
    "\n",
    "student_results = [ sum(subject_marks)/len(subject_marks) if all(sub_mark > 40  for sub_mark in subject_marks) else \"Fail\" for subject_marks in students_marks]\n",
    "\n",
    "student_final_results = {}\n",
    "for stu_name, stu_mark_per in zip(student_names,student_results):\n",
    "    student_final_results[stu_name]= stu_mark_per\n",
    "    \n",
    "print(student_final_results)"
   ]
  },
  {
   "cell_type": "markdown",
   "id": "06b3c4e8",
   "metadata": {},
   "source": [
    "# Q 2: Determine if the student passed or failed from the given dictionary"
   ]
  },
  {
   "cell_type": "code",
   "execution_count": 24,
   "id": "97b2d388",
   "metadata": {},
   "outputs": [
    {
     "name": "stdout",
     "output_type": "stream",
     "text": [
      "Naveen [55, 65, 70, 80, 90]\n",
      "Suresh [30, 45, 50, 35, 60]\n",
      "Naresh [80, 85, 90, 95, 100]\n"
     ]
    }
   ],
   "source": [
    "student_dict = {\n",
    "    'Naveen': [55, 65, 70, 80, 90],\n",
    "    'Suresh': [30, 45, 50, 35, 60],\n",
    "    'Naresh': [80, 85, 90, 95, 100]\n",
    "}\n",
    "\n",
    "for key,value in student_dict.items():\n",
    "    print(key,value)"
   ]
  },
  {
   "cell_type": "code",
   "execution_count": 27,
   "id": "bea9d9a7",
   "metadata": {},
   "outputs": [
    {
     "data": {
      "text/plain": [
       "{'Naveen': 72.0, 'Suresh': 'Fail', 'Naresh': 90.0}"
      ]
     },
     "execution_count": 27,
     "metadata": {},
     "output_type": "execute_result"
    }
   ],
   "source": [
    "# method 1 - normal\n",
    "student_results = {}\n",
    "for stu_name,stu_marks in student_dict.items():\n",
    "    if all(sub_mark > 40  for sub_mark in stu_marks):\n",
    "        marks_per = sum(stu_marks)/len(stu_marks)\n",
    "        student_results[stu_name]=marks_per\n",
    "    else:\n",
    "        student_results[stu_name]=\"Fail\"\n",
    "student_results"
   ]
  },
  {
   "cell_type": "code",
   "execution_count": 28,
   "id": "80288e69",
   "metadata": {},
   "outputs": [
    {
     "data": {
      "text/plain": [
       "{'Naveen': 72.0, 'Suresh': 'Fail', 'Naresh': 90.0}"
      ]
     },
     "execution_count": 28,
     "metadata": {},
     "output_type": "execute_result"
    }
   ],
   "source": [
    "# method 2\n",
    "student_results = { stu_name: sum(stu_marks)/len(stu_marks) if all(sub_mark > 40  for sub_mark in stu_marks) else \"Fail\" for stu_name,stu_marks in student_dict.items()}\n",
    "student_results"
   ]
  },
  {
   "cell_type": "markdown",
   "id": "152e7223",
   "metadata": {},
   "source": [
    "# Q 3:  Validate the email\n",
    "    "
   ]
  },
  {
   "cell_type": "code",
   "execution_count": 17,
   "id": "38a3272f",
   "metadata": {},
   "outputs": [
    {
     "name": "stdout",
     "output_type": "stream",
     "text": [
      "[{'name': 'Alice', 'email': 'alice@example.com', 'phone': '123'}, {'name': 'Bob', 'email': 'bob[at]example', 'phone': '456'}, {'name': 'Carol', 'email': 'carol@site.co', 'phone': '789'}]\n"
     ]
    }
   ],
   "source": [
    "users = [\n",
    "    {\"name\": \"Alice\", \"email\": \"alice@example.com\", \"phone\": \"123\"},\n",
    "    {\"name\": \"Bob\",   \"email\": \"bob[at]example\",  \"phone\": \"456\"},\n",
    "    {\"name\": \"Carol\", \"email\": \"carol@site.co\",   \"phone\": \"789\"},\n",
    "]\n",
    "\n",
    "print(users)"
   ]
  },
  {
   "cell_type": "code",
   "execution_count": 36,
   "id": "2b6b344b",
   "metadata": {},
   "outputs": [
    {
     "name": "stdout",
     "output_type": "stream",
     "text": [
      "alice@example.com\n",
      "True\n",
      "bob[at]example\n",
      "False\n",
      "carol@site.co\n",
      "True\n"
     ]
    }
   ],
   "source": [
    "# methid 1\n",
    "\n",
    "def validate(email):\n",
    "    if email.count('@')!=1:\n",
    "        return False\n",
    "    usr,domain = email.split('@')\n",
    "    \n",
    "    if '.' not in domain or domain.startswith('.') or domain.endswith('.'):\n",
    "        return False\n",
    "    \n",
    "    if ' ' in usr:\n",
    "        return False\n",
    "    return True\n",
    "\n",
    "for usr in users:\n",
    "    print(usr[\"email\"])\n",
    "    print(validate(usr[\"email\"]))\n",
    "        \n",
    "    "
   ]
  },
  {
   "cell_type": "code",
   "execution_count": 38,
   "id": "8db59a47",
   "metadata": {},
   "outputs": [
    {
     "data": {
      "text/plain": [
       "{'Alice': True, 'Bob': False, 'Carol': True}"
      ]
     },
     "execution_count": 38,
     "metadata": {},
     "output_type": "execute_result"
    }
   ],
   "source": [
    "validate = {usr[\"name\"]: validate(usr[\"email\"]) for usr in users}\n",
    "validate"
   ]
  },
  {
   "cell_type": "code",
   "execution_count": null,
   "id": "c3bcb0e3",
   "metadata": {},
   "outputs": [],
   "source": []
  },
  {
   "cell_type": "code",
   "execution_count": null,
   "id": "4ae7c604",
   "metadata": {},
   "outputs": [],
   "source": []
  },
  {
   "cell_type": "code",
   "execution_count": null,
   "id": "80775525",
   "metadata": {},
   "outputs": [],
   "source": []
  },
  {
   "cell_type": "code",
   "execution_count": null,
   "id": "a78fdb4b",
   "metadata": {},
   "outputs": [],
   "source": []
  },
  {
   "cell_type": "code",
   "execution_count": null,
   "id": "d54666c4",
   "metadata": {},
   "outputs": [],
   "source": []
  },
  {
   "cell_type": "code",
   "execution_count": null,
   "id": "35f3f2de",
   "metadata": {},
   "outputs": [],
   "source": []
  },
  {
   "cell_type": "code",
   "execution_count": null,
   "id": "15bbfb14",
   "metadata": {},
   "outputs": [],
   "source": []
  },
  {
   "cell_type": "code",
   "execution_count": null,
   "id": "a7e96039",
   "metadata": {},
   "outputs": [],
   "source": []
  },
  {
   "cell_type": "code",
   "execution_count": null,
   "id": "ea764d3d",
   "metadata": {},
   "outputs": [],
   "source": []
  },
  {
   "cell_type": "code",
   "execution_count": null,
   "id": "568350f3",
   "metadata": {},
   "outputs": [],
   "source": []
  },
  {
   "cell_type": "code",
   "execution_count": null,
   "id": "d7326ee6",
   "metadata": {},
   "outputs": [],
   "source": []
  },
  {
   "cell_type": "code",
   "execution_count": null,
   "id": "e442021d",
   "metadata": {},
   "outputs": [],
   "source": []
  },
  {
   "cell_type": "code",
   "execution_count": 14,
   "id": "91fa1e83",
   "metadata": {},
   "outputs": [
    {
     "data": {
      "text/plain": [
       "[72.0, 'Fail', 90.0]"
      ]
     },
     "execution_count": 14,
     "metadata": {},
     "output_type": "execute_result"
    }
   ],
   "source": [
    "student_results = []\n",
    "for sub_marks in students_marks:\n",
    "    if all(sub_mark > 40  for sub_mark in sub_marks):\n",
    "        result=sum(sub_marks)/len(sub_marks)\n",
    "    else:\n",
    "        result=\"Fail\"\n",
    "    student_results.append(result)\n",
    "    \n",
    "student_results"
   ]
  },
  {
   "cell_type": "code",
   "execution_count": 15,
   "id": "39713f66",
   "metadata": {},
   "outputs": [
    {
     "data": {
      "text/plain": [
       "[72.0, 'Fail', 90.0]"
      ]
     },
     "execution_count": 15,
     "metadata": {},
     "output_type": "execute_result"
    }
   ],
   "source": [
    "student_results = [ sum(sub_marks)/len(sub_marks)  if all(sub_mark > 40  for sub_mark in sub_marks) else \"Fail\" for sub_marks in students_marks]\n",
    "student_results"
   ]
  },
  {
   "cell_type": "code",
   "execution_count": 16,
   "id": "c2a52008",
   "metadata": {},
   "outputs": [
    {
     "data": {
      "text/plain": [
       "{'Naveen': 72.0, 'Suresh': 'Fail', 'Naresh': 90.0}"
      ]
     },
     "execution_count": 16,
     "metadata": {},
     "output_type": "execute_result"
    }
   ],
   "source": [
    "student_names = [\"Naveen\", \"Suresh\", \"Naresh\"]\n",
    "student_result_dict = {}\n",
    "for key,value in zip(student_names,student_results):\n",
    "    student_result_dict[key]=value\n",
    "\n",
    "student_result_dict"
   ]
  }
 ],
 "metadata": {
  "kernelspec": {
   "display_name": "Python 3 (ipykernel)",
   "language": "python",
   "name": "python3"
  },
  "language_info": {
   "codemirror_mode": {
    "name": "ipython",
    "version": 3
   },
   "file_extension": ".py",
   "mimetype": "text/x-python",
   "name": "python",
   "nbconvert_exporter": "python",
   "pygments_lexer": "ipython3",
   "version": "3.11.5"
  }
 },
 "nbformat": 4,
 "nbformat_minor": 5
}
